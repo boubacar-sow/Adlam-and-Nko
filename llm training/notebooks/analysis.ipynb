{
 "cells": [
  {
   "cell_type": "code",
   "execution_count": 17,
   "metadata": {},
   "outputs": [],
   "source": [
    "import json\n",
    "import pandas as pd\n",
    "import os\n",
    "import unicodedata"
   ]
  },
  {
   "cell_type": "code",
   "execution_count": 14,
   "metadata": {},
   "outputs": [
    {
     "name": "stdout",
     "output_type": "stream",
     "text": [
      "Initial Data Info:\n",
      "<class 'pandas.core.frame.DataFrame'>\n",
      "RangeIndex: 398 entries, 0 to 397\n",
      "Data columns (total 2 columns):\n",
      " #   Column   Non-Null Count  Dtype \n",
      "---  ------   --------------  ----- \n",
      " 0   title    398 non-null    object\n",
      " 1   content  398 non-null    object\n",
      "dtypes: object(2)\n",
      "memory usage: 6.3+ KB\n",
      "None\n",
      "Head\n"
     ]
    },
    {
     "data": {
      "text/html": [
       "<div>\n",
       "<style scoped>\n",
       "    .dataframe tbody tr th:only-of-type {\n",
       "        vertical-align: middle;\n",
       "    }\n",
       "\n",
       "    .dataframe tbody tr th {\n",
       "        vertical-align: top;\n",
       "    }\n",
       "\n",
       "    .dataframe thead th {\n",
       "        text-align: right;\n",
       "    }\n",
       "</style>\n",
       "<table border=\"1\" class=\"dataframe\">\n",
       "  <thead>\n",
       "    <tr style=\"text-align: right;\">\n",
       "      <th></th>\n",
       "      <th>title</th>\n",
       "      <th>content</th>\n",
       "    </tr>\n",
       "  </thead>\n",
       "  <tbody>\n",
       "    <tr>\n",
       "      <th>0</th>\n",
       "      <td>𞤘𞤀𞥄𞤟𞥆𞤀 𞤐𞤌𞤐؟</td>\n",
       "      <td>𞤂𞤫𞤧𞤯𞤫 𞤖𞤋𞥅𞤈𞤐𞤀𞤐𞤑𞤌𞥅𞤔𞤉 (𞤌𞤳𞤧𞤭𞤣𞤢𞤲) 𞥑𞥕 𞤫 𞤤𞤫𞤴 𞤳𞤮𞤲𞤺𞤮𞤤 𞤀...</td>\n",
       "    </tr>\n",
       "    <tr>\n",
       "      <th>1</th>\n",
       "      <td>𞤑𞤀𞤃𞤀𞤈𞤓𞤐: 𞤅𞤋𞤑𞥆𞤀𞤐𞤌𞥅𞤍𞤌 𞤌𞤐 𞤃𞤀𞥄𞤒𞤋𞥅⹁ 𞤀𞤈𞤚𞤋𞥅</td>\n",
       "      <td>𞤀𞤱𞤢 𞤧𞤭𞤳𞥆𞤢𞤲𞤮𞥅𞤯𞤮 𞤮𞤲 𞤥𞤢𞤴𞤭𞥅 𞤢𞤪𞤼𞤭𞥅.𞤆𞤌𞤂 𞤄𞤋𞤒𞤀⹁ 𞤸𞤮𞥅𞤪𞤫𞥅...</td>\n",
       "    </tr>\n",
       "    <tr>\n",
       "      <th>2</th>\n",
       "      <td>𞤊𞤌𞤐𞤋𞤑𞤉𞥅 𞤃𞤉𞤐𞤘𞤉𞥅 𞤉 𞤄𞤋𞤂𞥆𞤌 𞤄𞤀𞥄⹁ 𞤚𞤋𞤃𞥆𞤋𞥅 𞤄𞤀𞥄𞤂𞤍𞤉 𞤅𞤀𞤆𞥆𞤌</td>\n",
       "      <td>𞤘𞤋𞤐𞤉⹁ 𞤖𞤌𞥅𞤈𞤉𞥅𞤇𞤉 𞤁𞤋𞤂𞥆𞤀𞤐𞤁𞤉 FNDC 𞤂𞤋𞤁𞥆𞤋𞥅𞤐𞤁𞤉 𞤔𞤓𞤐𞥆𞤋𞤚𞤀...</td>\n",
       "    </tr>\n",
       "    <tr>\n",
       "      <th>3</th>\n",
       "      <td>𞤀 𞤆𞤉𞤏 𞤁𞤌𞤐𞤀𞤂 𞤚𞤈𞤌𞤆𞤃 𞤖𞤉𞤁𞥆𞤌𞥅 𞤉 𞤊𞤉𞤂𞥆𞤋𞤐𞥋𞤁𞤋𞤈𞤌</td>\n",
       "      <td>𞤁𞤮𞤲𞤢𞤤 𞤚𞤪𞤮𞤥𞤨⹁ 𞤸𞤮𞥅𞤪𞤫𞥅𞤶𞤮 𞤳𞤭𞤯𞥆𞤮 𞤀𞤥𞤫𞤪𞤭𞤳⹁ 𞤲𞤮 𞤧𞤮𞤪𞤼𞤢𞥄 ...</td>\n",
       "    </tr>\n",
       "    <tr>\n",
       "      <th>4</th>\n",
       "      <td>𞤖𞤌𞤂 𞤂𞤋𞤁𞥆𞤌𞤂! 𞤆𞤓𞤂𞥆𞤌 𞤅𞤀𞤂𞤋𞥅𞤍𞤌 𞤖𞤀𞥄𞤂𞤓𞤁𞤉 𞤆𞤓𞤂𞤀𞤈</td>\n",
       "      <td>𞤐𞤮 𞤱𞤮𞥅𞤱𞤭𞤪𞤭 𞤲𞤮𞤲⹁ 𞤬𞤫𞤱𞤲𞤣𞤮 𞤼𞤢𞥄𞤪𞤢𞤲𞤺𞤮𞤤 𞤑𞤢𞤤𞤭𞥅𞤬𞤢𞥄𞤶𞤮 𞤊𞤵...</td>\n",
       "    </tr>\n",
       "  </tbody>\n",
       "</table>\n",
       "</div>"
      ],
      "text/plain": [
       "                                             title  \\\n",
       "0                                      𞤘𞤀𞥄𞤟𞥆𞤀 𞤐𞤌𞤐؟   \n",
       "1             𞤑𞤀𞤃𞤀𞤈𞤓𞤐: 𞤅𞤋𞤑𞥆𞤀𞤐𞤌𞥅𞤍𞤌 𞤌𞤐 𞤃𞤀𞥄𞤒𞤋𞥅⹁ 𞤀𞤈𞤚𞤋𞥅   \n",
       "2  𞤊𞤌𞤐𞤋𞤑𞤉𞥅 𞤃𞤉𞤐𞤘𞤉𞥅 𞤉 𞤄𞤋𞤂𞥆𞤌 𞤄𞤀𞥄⹁ 𞤚𞤋𞤃𞥆𞤋𞥅 𞤄𞤀𞥄𞤂𞤍𞤉 𞤅𞤀𞤆𞥆𞤌   \n",
       "3           𞤀 𞤆𞤉𞤏 𞤁𞤌𞤐𞤀𞤂 𞤚𞤈𞤌𞤆𞤃 𞤖𞤉𞤁𞥆𞤌𞥅 𞤉 𞤊𞤉𞤂𞥆𞤋𞤐𞥋𞤁𞤋𞤈𞤌   \n",
       "4          𞤖𞤌𞤂 𞤂𞤋𞤁𞥆𞤌𞤂! 𞤆𞤓𞤂𞥆𞤌 𞤅𞤀𞤂𞤋𞥅𞤍𞤌 𞤖𞤀𞥄𞤂𞤓𞤁𞤉 𞤆𞤓𞤂𞤀𞤈   \n",
       "\n",
       "                                             content  \n",
       "0  𞤂𞤫𞤧𞤯𞤫 𞤖𞤋𞥅𞤈𞤐𞤀𞤐𞤑𞤌𞥅𞤔𞤉 (𞤌𞤳𞤧𞤭𞤣𞤢𞤲) 𞥑𞥕 𞤫 𞤤𞤫𞤴 𞤳𞤮𞤲𞤺𞤮𞤤 𞤀...  \n",
       "1  𞤀𞤱𞤢 𞤧𞤭𞤳𞥆𞤢𞤲𞤮𞥅𞤯𞤮 𞤮𞤲 𞤥𞤢𞤴𞤭𞥅 𞤢𞤪𞤼𞤭𞥅.𞤆𞤌𞤂 𞤄𞤋𞤒𞤀⹁ 𞤸𞤮𞥅𞤪𞤫𞥅...  \n",
       "2  𞤘𞤋𞤐𞤉⹁ 𞤖𞤌𞥅𞤈𞤉𞥅𞤇𞤉 𞤁𞤋𞤂𞥆𞤀𞤐𞤁𞤉 FNDC 𞤂𞤋𞤁𞥆𞤋𞥅𞤐𞤁𞤉 𞤔𞤓𞤐𞥆𞤋𞤚𞤀...  \n",
       "3  𞤁𞤮𞤲𞤢𞤤 𞤚𞤪𞤮𞤥𞤨⹁ 𞤸𞤮𞥅𞤪𞤫𞥅𞤶𞤮 𞤳𞤭𞤯𞥆𞤮 𞤀𞤥𞤫𞤪𞤭𞤳⹁ 𞤲𞤮 𞤧𞤮𞤪𞤼𞤢𞥄 ...  \n",
       "4  𞤐𞤮 𞤱𞤮𞥅𞤱𞤭𞤪𞤭 𞤲𞤮𞤲⹁ 𞤬𞤫𞤱𞤲𞤣𞤮 𞤼𞤢𞥄𞤪𞤢𞤲𞤺𞤮𞤤 𞤑𞤢𞤤𞤭𞥅𞤬𞤢𞥄𞤶𞤮 𞤊𞤵...  "
      ]
     },
     "metadata": {},
     "output_type": "display_data"
    },
    {
     "name": "stdout",
     "output_type": "stream",
     "text": [
      "\n",
      "Tail\n"
     ]
    },
    {
     "data": {
      "text/html": [
       "<div>\n",
       "<style scoped>\n",
       "    .dataframe tbody tr th:only-of-type {\n",
       "        vertical-align: middle;\n",
       "    }\n",
       "\n",
       "    .dataframe tbody tr th {\n",
       "        vertical-align: top;\n",
       "    }\n",
       "\n",
       "    .dataframe thead th {\n",
       "        text-align: right;\n",
       "    }\n",
       "</style>\n",
       "<table border=\"1\" class=\"dataframe\">\n",
       "  <thead>\n",
       "    <tr style=\"text-align: right;\">\n",
       "      <th></th>\n",
       "      <th>title</th>\n",
       "      <th>content</th>\n",
       "    </tr>\n",
       "  </thead>\n",
       "  <tbody>\n",
       "    <tr>\n",
       "      <th>393</th>\n",
       "      <td>𞤉𞤪𞤣𞤮𞤺𞤢𞥄𞤲 𞤚𞤵𞤥𞤦𞤮’𞤣𞤭𞤪𞤢𞤤 𞤘𞤫𞤲𞤯𞤭 𞤘𞤮𞤼𞥆𞤵𞤯𞤭</td>\n",
       "      <td>𞤉𞤪𞤣𞤮𞤺𞤢𞥄𞤲 𞤸𞤫𞤪𞤧𞤭𞤪𞤢𞥄𞤤𞤭 𞤳𞤮𞤲𞤺𞤵𞤯𞤭 𞤥𞤵𞤲 𞤯𞤭𞤲\\n𞤃𞤮𞤪𞤧𞤭𞥅⹁ 𞤫...</td>\n",
       "    </tr>\n",
       "    <tr>\n",
       "      <th>394</th>\n",
       "      <td>𞤁𞤢𞤱𞤪𞤮 𞤫 𞤩𞤢𞥄𞤱𞤮 𞤣𞤢𞤱𞤪𞤮𞥅𞤩𞤫</td>\n",
       "      <td>𞤏𞤮𞤼𞤢 𞤮𞤲 𞤶𞤭𞤳𞥆𞤭𞤲𞤮𞤪 𞤬𞤮𞤼𞤢 𞤩𞤫𞤲 𞤱𞤢𞤯𞤵𞤩𞤫 𞤣𞤢𞤱𞤪𞤮 𞤲𞤺𞤮𞤲 𞤥𞤫...</td>\n",
       "    </tr>\n",
       "    <tr>\n",
       "      <th>395</th>\n",
       "      <td>𞤃𞤫𞥅𞤧𞤭𞥅: 𞤊𞤭𞤶𞤮𞥅𞤱𞤮 𞤊𞤭𞥅𞤬𞤢𞥄 𞤖𞤭𞤼𞤢𞥄𞤲𞤣𞤫</td>\n",
       "      <td>Alaa Android 8? Dhibbu dhoo\\n𞤑𞤮 𞤃𞤫𞥅𞤧𞤭𞥅⹁ 𞤢𞤪𞤶𞤢𞤲𞤼...</td>\n",
       "    </tr>\n",
       "    <tr>\n",
       "      <th>396</th>\n",
       "      <td>𞤉𞤤𞤼𞤮𞥅𞤱𞤮 𞤳𞤫𞤧𞤮 𞤬𞤭𞥅 𞤅𞤭𞤤𞤭𞥅 𞤐𞤢𞤧𞥆𞤭𞤴𞤮𞤲𞤢𞤤</td>\n",
       "      <td>Alaa Android 8? Dhibbu dhoo\\n𞤑𞤮 𞤁𞤭𞤣𞤭𞤴𞤫𞥅 𞤅𞤭𞥅𞤧 𞤱...</td>\n",
       "    </tr>\n",
       "    <tr>\n",
       "      <th>397</th>\n",
       "      <td>𞤇𞤫𞥅 𞤺𞤢𞤴𞤲𞤭𞥅 𞤴𞤫𞥅𞤴𞤵𞤣𞤫 𞤶𞤢𞤱𞤤𞤫 𞤥𞤫𞤲 𞤯𞤫𞤲</td>\n",
       "      <td>Si vous n’avez pas Android 8, cliquez ici\\n𞤐𞤣𞤫...</td>\n",
       "    </tr>\n",
       "  </tbody>\n",
       "</table>\n",
       "</div>"
      ],
      "text/plain": [
       "                                  title  \\\n",
       "393  𞤉𞤪𞤣𞤮𞤺𞤢𞥄𞤲 𞤚𞤵𞤥𞤦𞤮’𞤣𞤭𞤪𞤢𞤤 𞤘𞤫𞤲𞤯𞤭 𞤘𞤮𞤼𞥆𞤵𞤯𞤭   \n",
       "394              𞤁𞤢𞤱𞤪𞤮 𞤫 𞤩𞤢𞥄𞤱𞤮 𞤣𞤢𞤱𞤪𞤮𞥅𞤩𞤫   \n",
       "395     𞤃𞤫𞥅𞤧𞤭𞥅: 𞤊𞤭𞤶𞤮𞥅𞤱𞤮 𞤊𞤭𞥅𞤬𞤢𞥄 𞤖𞤭𞤼𞤢𞥄𞤲𞤣𞤫   \n",
       "396   𞤉𞤤𞤼𞤮𞥅𞤱𞤮 𞤳𞤫𞤧𞤮 𞤬𞤭𞥅 𞤅𞤭𞤤𞤭𞥅 𞤐𞤢𞤧𞥆𞤭𞤴𞤮𞤲𞤢𞤤   \n",
       "397    𞤇𞤫𞥅 𞤺𞤢𞤴𞤲𞤭𞥅 𞤴𞤫𞥅𞤴𞤵𞤣𞤫 𞤶𞤢𞤱𞤤𞤫 𞤥𞤫𞤲 𞤯𞤫𞤲   \n",
       "\n",
       "                                               content  \n",
       "393  𞤉𞤪𞤣𞤮𞤺𞤢𞥄𞤲 𞤸𞤫𞤪𞤧𞤭𞤪𞤢𞥄𞤤𞤭 𞤳𞤮𞤲𞤺𞤵𞤯𞤭 𞤥𞤵𞤲 𞤯𞤭𞤲\\n𞤃𞤮𞤪𞤧𞤭𞥅⹁ 𞤫...  \n",
       "394  𞤏𞤮𞤼𞤢 𞤮𞤲 𞤶𞤭𞤳𞥆𞤭𞤲𞤮𞤪 𞤬𞤮𞤼𞤢 𞤩𞤫𞤲 𞤱𞤢𞤯𞤵𞤩𞤫 𞤣𞤢𞤱𞤪𞤮 𞤲𞤺𞤮𞤲 𞤥𞤫...  \n",
       "395  Alaa Android 8? Dhibbu dhoo\\n𞤑𞤮 𞤃𞤫𞥅𞤧𞤭𞥅⹁ 𞤢𞤪𞤶𞤢𞤲𞤼...  \n",
       "396  Alaa Android 8? Dhibbu dhoo\\n𞤑𞤮 𞤁𞤭𞤣𞤭𞤴𞤫𞥅 𞤅𞤭𞥅𞤧 𞤱...  \n",
       "397  Si vous n’avez pas Android 8, cliquez ici\\n𞤐𞤣𞤫...  "
      ]
     },
     "metadata": {},
     "output_type": "display_data"
    }
   ],
   "source": [
    "# Load JSON data\n",
    "with open('../data/processed/articles.json', 'r', encoding='utf-8') as file:\n",
    "    articles = json.load(file)\n",
    "\n",
    "# Convert JSON to DataFrame\n",
    "df = pd.DataFrame(articles)\n",
    "\n",
    "# Data Inspection\n",
    "print(\"Initial Data Info:\")\n",
    "print(df.info())\n",
    "\n",
    "# Head\n",
    "print(\"Head\")\n",
    "display(df.head())\n",
    "print()\n",
    "# Tail\n",
    "print(\"Tail\")\n",
    "display(df.tail())\n",
    "\n",
    "# Nan"
   ]
  },
  {
   "cell_type": "code",
   "execution_count": 16,
   "metadata": {},
   "outputs": [
    {
     "name": "stderr",
     "output_type": "stream",
     "text": [
      "/var/folders/xm/3ct03h_d797_ld5z2gg5nmsc0000gn/T/ipykernel_27018/251149765.py:2: FutureWarning: DataFrame.fillna with 'method' is deprecated and will raise in a future version. Use obj.ffill() or obj.bfill() instead.\n",
      "  df.fillna(method='ffill', inplace=True)  # Forward fill example\n"
     ]
    }
   ],
   "source": [
    "# Handling Missing Data\n",
    "df.fillna(method='ffill', inplace=True)  # Forward fill example\n",
    "\n",
    "# Removing Duplicates\n",
    "df.drop_duplicates(inplace=True)\n",
    "\n",
    "# strip and lowercase\n",
    "df['title'] = df['title'].apply(lambda x: unicodedata.normalize('NFC', x.strip()))\n",
    "df['content'] = df['content'].apply(lambda x: unicodedata.normalize('NFC', x.strip()))\n"
   ]
  },
  {
   "cell_type": "code",
   "execution_count": 21,
   "metadata": {},
   "outputs": [
    {
     "name": "stdout",
     "output_type": "stream",
     "text": [
      "Data cleaning complete. Cleaned data saved to:  ../cleaned_data/cleaned_data.csv\n",
      "Data cleaning complete. Cleaned data saved to:  ../cleaned_data/cleaned_articles.json\n"
     ]
    }
   ],
   "source": [
    "# Save the cleaned data as a CSV file\n",
    "cleaned_data_path_csv = \"../cleaned_data/cleaned_data.csv\"\n",
    "df.to_csv(cleaned_data_path_csv, index=False)\n",
    "print(\"Data cleaning complete. Cleaned data saved to: \", cleaned_data_path_csv)\n",
    "\n",
    "# Save the cleaned data as a single list with records separated by commas in JSON format\n",
    "cleaned_data_path_json = \"../cleaned_data/cleaned_articles.json\"\n",
    "with open(cleaned_data_path_json, 'w', encoding='utf-8') as file:\n",
    "    json.dump(articles, file, ensure_ascii=False, indent=4)\n",
    "print(\"Data cleaning complete. Cleaned data saved to: \", cleaned_data_path_json)\n"
   ]
  },
  {
   "cell_type": "code",
   "execution_count": null,
   "metadata": {},
   "outputs": [],
   "source": []
  }
 ],
 "metadata": {
  "kernelspec": {
   "display_name": "adlamandnko-KnSx1iNo-py3.12",
   "language": "python",
   "name": "python3"
  },
  "language_info": {
   "codemirror_mode": {
    "name": "ipython",
    "version": 3
   },
   "file_extension": ".py",
   "mimetype": "text/x-python",
   "name": "python",
   "nbconvert_exporter": "python",
   "pygments_lexer": "ipython3",
   "version": "3.12.6"
  }
 },
 "nbformat": 4,
 "nbformat_minor": 2
}
