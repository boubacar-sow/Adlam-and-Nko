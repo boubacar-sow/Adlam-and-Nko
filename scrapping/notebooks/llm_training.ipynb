{
 "cells": [
  {
   "cell_type": "code",
   "execution_count": 1,
   "metadata": {},
   "outputs": [],
   "source": [
    "import json\n",
    "import torch\n",
    "from collections import Counter\n",
    "from tokenizers import ByteLevelBPETokenizer\n",
    "from tokenizers.processors import BertProcessing\n",
    "from pathlib import Path"
   ]
  },
  {
   "cell_type": "code",
   "execution_count": 4,
   "metadata": {},
   "outputs": [
    {
     "name": "stdout",
     "output_type": "stream",
     "text": [
      "Optimal Vocabulary Size: 19739\n"
     ]
    }
   ],
   "source": [
    "# Load the JSON data\n",
    "with open('../cleaned_data/cleaned_articles.json', 'r', encoding='utf-8') as file:\n",
    "    articles = json.load(file)\n",
    "\n",
    "# Flatten the data into a list of texts\n",
    "texts = [article['content'] for article in articles] + [article['title'] for article in articles]\n",
    "\n",
    "# Tokenize and count word frequencies\n",
    "word_counter = Counter()\n",
    "for text in texts:\n",
    "    word_counter.update(text.split())\n",
    "\n",
    "# Sort words by frequency\n",
    "most_common_words = word_counter.most_common()\n",
    "\n",
    "# Determine vocab size\n",
    "desired_vocab_size = len(most_common_words)\n",
    "print(f\"Optimal Vocabulary Size: {desired_vocab_size}\")\n"
   ]
  },
  {
   "cell_type": "code",
   "execution_count": 11,
   "metadata": {},
   "outputs": [
    {
     "name": "stdout",
     "output_type": "stream",
     "text": [
      "\n",
      "\n",
      "\n",
      "BPE Tokenizer trained and saved.\n",
      "Tokenized samples saved to: ../cleaned_data/tokenized_samples.json\n",
      "Full tokenized data saved to: ../cleaned_data/tokenized_articles.pt\n"
     ]
    }
   ],
   "source": [
    "from tokenizers import BertWordPieceTokenizer\n",
    "\n",
    "# Directory paths\n",
    "data_files = [\"../cleaned_data/cleaned_articles.json\"]\n",
    "vocab_size = 19739  # Based on your earlier calculation\n",
    "special_tokens = [\"[CLS]\", \"[SEP]\", \"[PAD]\", \"[UNK]\", \"[MASK]\"]\n",
    "\n",
    "# Load the data\n",
    "with open(data_files[0], 'r', encoding='utf-8') as file:\n",
    "    articles = json.load(file)\n",
    "\n",
    "# Extract text content\n",
    "texts = [article['content'] for article in articles]\n",
    "\n",
    "# Save texts to a file for tokenizer training\n",
    "with open(\"texts.txt\", \"w\", encoding=\"utf-8\") as f:\n",
    "    for text in texts:\n",
    "        f.write(text + \"\\n\")\n",
    "\n",
    "# Initialize a BPE tokenizer\n",
    "tokenizer = BertWordPieceTokenizer(lowercase=False)\n",
    "\n",
    "# Train the tokenizer\n",
    "tokenizer.train(files=[\"texts.txt\"], vocab_size=vocab_size, special_tokens=special_tokens)\n",
    "\n",
    "# Save the tokenizer\n",
    "tokenizer.save_model(\"../cleaned_data/\")\n",
    "print(\"BPE Tokenizer trained and saved.\")\n",
    "\n",
    "# Load the tokenizer\n",
    "tokenizer = BertWordPieceTokenizer(\n",
    "    \"../cleaned_data/vocab.txt\",\n",
    "    \"../cleaned_data/tokenizer.json\"\n",
    ")\n",
    "\n",
    "# Tokenize the texts\n",
    "tokenized_texts = [tokenizer.encode(text).tokens for text in texts]\n",
    "\n",
    "# Save tokenized samples and full tokenized data\n",
    "tokenized_samples = {}\n",
    "for i, text in enumerate(texts[:3]):\n",
    "    tokenized_samples[f\"Text {i + 1}\"] = {\n",
    "        \"original_text\": text,\n",
    "        \"tokens\": tokenized_texts[i]\n",
    "    }\n",
    "\n",
    "tokenized_samples_path = \"../cleaned_data/tokenized_samples.json\"\n",
    "with open(tokenized_samples_path, 'w', encoding='utf-8') as file:\n",
    "    json.dump(tokenized_samples, file, ensure_ascii=False, indent=4)\n",
    "print(f\"Tokenized samples saved to: {tokenized_samples_path}\")\n",
    "\n",
    "tokenized_data_path_pt = \"../cleaned_data/tokenized_articles.pt\"\n",
    "torch.save(tokenized_texts, tokenized_data_path_pt)\n",
    "print(f\"Full tokenized data saved to: {tokenized_data_path_pt}\")\n"
   ]
  },
  {
   "cell_type": "code",
   "execution_count": 13,
   "metadata": {},
   "outputs": [
    {
     "name": "stderr",
     "output_type": "stream",
     "text": [
      "/var/folders/xm/3ct03h_d797_ld5z2gg5nmsc0000gn/T/ipykernel_37912/1325550161.py:22: FutureWarning: You are using `torch.load` with `weights_only=False` (the current default value), which uses the default pickle module implicitly. It is possible to construct malicious pickle data which will execute arbitrary code during unpickling (See https://github.com/pytorch/pytorch/blob/main/SECURITY.md#untrusted-models for more details). In a future release, the default value for `weights_only` will be flipped to `True`. This limits the functions that could be executed during unpickling. Arbitrary objects will no longer be allowed to be loaded via this mode unless they are explicitly allowlisted by the user via `torch.serialization.add_safe_globals`. We recommend you start setting `weights_only=True` for any use case where you don't have full control of the loaded file. Please open an issue on GitHub for any issues related to this experimental feature.\n",
      "  tokenized_texts = torch.load('../cleaned_data/tokenized_articles.pt')\n"
     ]
    }
   ],
   "source": [
    "import torch\n",
    "from torch.utils.data import Dataset, DataLoader\n",
    "\n",
    "class TextDataset(Dataset):\n",
    "    def __init__(self, tokenized_texts, max_length=512):\n",
    "        self.tokenized_texts = tokenized_texts\n",
    "        self.max_length = max_length\n",
    "    \n",
    "    def __len__(self):\n",
    "        return len(self.tokenized_texts)\n",
    "    \n",
    "    def __getitem__(self, idx):\n",
    "        tokens = self.tokenized_texts[idx]\n",
    "        input_ids = torch.tensor(tokens, dtype=torch.long)\n",
    "        attention_mask = (input_ids != 0).long()  # Assuming 0 is the padding token\n",
    "        return {\n",
    "            'input_ids': input_ids,\n",
    "            'attention_mask': attention_mask\n",
    "        }\n",
    "\n",
    "# Load tokenized texts\n",
    "tokenized_texts = torch.load('../cleaned_data/tokenized_articles.pt')\n",
    "\n",
    "# Create dataset\n",
    "dataset = TextDataset(tokenized_texts)\n",
    "\n",
    "# Create DataLoader\n",
    "dataloader = DataLoader(dataset, batch_size=8, shuffle=True)\n"
   ]
  },
  {
   "cell_type": "code",
   "execution_count": null,
   "metadata": {},
   "outputs": [
    {
     "name": "stderr",
     "output_type": "stream",
     "text": [
      "/Users/user/Library/Caches/pypoetry/virtualenvs/adlamandnko-KnSx1iNo-py3.12/lib/python3.12/site-packages/tqdm/auto.py:21: TqdmWarning: IProgress not found. Please update jupyter and ipywidgets. See https://ipywidgets.readthedocs.io/en/stable/user_install.html\n",
      "  from .autonotebook import tqdm as notebook_tqdm\n",
      "huggingface/tokenizers: The current process just got forked, after parallelism has already been used. Disabling parallelism to avoid deadlocks...\n",
      "To disable this warning, you can either:\n",
      "\t- Avoid using `tokenizers` before the fork if possible\n",
      "\t- Explicitly set the environment variable TOKENIZERS_PARALLELISM=(true | false)\n"
     ]
    }
   ],
   "source": [
    "from transformers import BertForSequenceClassification, AdamW\n",
    "\n",
    "# Load pre-trained model\n",
    "model = BertForSequenceClassification.from_pretrained('bert-base-uncased')\n",
    "\n",
    "# Move model to GPU if available\n",
    "device = torch.device('cuda') if torch.cuda.is_available() else torch.device('cpu')\n",
    "model.to(device)\n"
   ]
  },
  {
   "cell_type": "code",
   "execution_count": null,
   "metadata": {},
   "outputs": [],
   "source": [
    "# Setup optimizer\n",
    "optimizer = AdamW(model.parameters(), lr=2e-5)\n",
    "\n",
    "# Training loop\n",
    "def train(model, dataloader, optimizer, device, epochs=3):\n",
    "    model.train()\n",
    "    for epoch in range(epochs):\n",
    "        for batch in dataloader:\n",
    "            optimizer.zero_grad()\n",
    "            input_ids = batch['input_ids'].to(device)\n",
    "            attention_mask = batch['attention_mask'].to(device)\n",
    "            outputs = model(input_ids=input_ids, attention_mask=attention_mask, labels=None)\n",
    "            loss = outputs.loss\n",
    "            loss.backward()\n",
    "            optimizer.step()\n",
    "        print(f'Epoch {epoch + 1}/{epochs} completed. Loss: {loss.item()}')\n",
    "\n",
    "# Train the model\n",
    "train(model, dataloader, optimizer, device)\n"
   ]
  }
 ],
 "metadata": {
  "kernelspec": {
   "display_name": "adlamandnko-KnSx1iNo-py3.12",
   "language": "python",
   "name": "python3"
  },
  "language_info": {
   "codemirror_mode": {
    "name": "ipython",
    "version": 3
   },
   "file_extension": ".py",
   "mimetype": "text/x-python",
   "name": "python",
   "nbconvert_exporter": "python",
   "pygments_lexer": "ipython3",
   "version": "3.12.6"
  }
 },
 "nbformat": 4,
 "nbformat_minor": 2
}
